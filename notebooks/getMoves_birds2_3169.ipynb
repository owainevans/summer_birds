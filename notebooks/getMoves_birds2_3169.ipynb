{
 "metadata": {
  "name": "",
  "signature": "sha256:5932f59a079467142ed06fd906ffe5448a90c6f021b45d21f363dc14fb70b7f4"
 },
 "nbformat": 3,
 "nbformat_minor": 0,
 "worksheets": [
  {
   "cells": [
    {
     "cell_type": "code",
     "collapsed": false,
     "input": [
      "cd ~/birds"
     ],
     "language": "python",
     "metadata": {},
     "outputs": [
      {
       "output_type": "stream",
       "stream": "stdout",
       "text": [
        "/home/owainevans/birds\n"
       ]
      }
     ],
     "prompt_number": 5
    },
    {
     "cell_type": "code",
     "collapsed": false,
     "input": [
      "%run plotMoves.py"
     ],
     "language": "python",
     "metadata": {},
     "outputs": [],
     "prompt_number": 6
    },
    {
     "cell_type": "markdown",
     "metadata": {},
     "source": [
      "Plot:\n",
      "xaxis is the cell number. we plot the number of birds leaving each cell"
     ]
    },
    {
     "cell_type": "code",
     "collapsed": false,
     "input": [
      "# RUN INFORMATION\n",
      "# birds2, year 1, running all 19 days\n",
      "# 1000 transitions and 1 iteration (so 1 posterior sample per day)\n",
      "noIters=3\n",
      "path = 'fullyeargetMoves_3169/'\n",
      "allMoves,allMovesGround,fig = plotMoves(path)\n"
     ],
     "language": "python",
     "metadata": {},
     "outputs": [
      {
       "ename": "NameError",
       "evalue": "name 'plotMoves' is not defined",
       "output_type": "pyerr",
       "traceback": [
        "\u001b[1;31m---------------------------------------------------------------------------\u001b[0m\n\u001b[1;31mNameError\u001b[0m                                 Traceback (most recent call last)",
        "\u001b[1;32m<ipython-input-4-4c5fdb342137>\u001b[0m in \u001b[0;36m<module>\u001b[1;34m()\u001b[0m\n\u001b[0;32m      4\u001b[0m \u001b[0mnoIters\u001b[0m\u001b[1;33m=\u001b[0m\u001b[1;36m3\u001b[0m\u001b[1;33m\u001b[0m\u001b[0m\n\u001b[0;32m      5\u001b[0m \u001b[0mpath\u001b[0m \u001b[1;33m=\u001b[0m \u001b[1;34m'fullyeargetMoves_3169/'\u001b[0m\u001b[1;33m\u001b[0m\u001b[0m\n\u001b[1;32m----> 6\u001b[1;33m \u001b[0mallMoves\u001b[0m\u001b[1;33m,\u001b[0m\u001b[0mallMovesGround\u001b[0m\u001b[1;33m,\u001b[0m\u001b[0mfig\u001b[0m \u001b[1;33m=\u001b[0m \u001b[0mplotMoves\u001b[0m\u001b[1;33m(\u001b[0m\u001b[0mpath\u001b[0m\u001b[1;33m)\u001b[0m\u001b[1;33m\u001b[0m\u001b[0m\n\u001b[0m",
        "\u001b[1;31mNameError\u001b[0m: name 'plotMoves' is not defined"
       ]
      }
     ],
     "prompt_number": 4
    },
    {
     "cell_type": "code",
     "collapsed": false,
     "input": [
      "logs=[[(-20.108076424534822, 904.0, 4.261129856109619), (-15.45670516570966, 1296.0, 6.58740496635437), (-14.909600951768095, 784.0, 6.575674057006836), (-14.965421910731617, 841.0, 6.637617111206055), (-102.55984575612038, 1257.0, 9.98505187034607), (-98.78649426541351, 1121.0, 7.257622957229614), (-99.28570278144386, 1886.0, 7.109521150588989), (-107.32513238369167, 2687.0, 7.146297931671143), (-290.87769039193836, 5742.0, 15.671849966049194), (-296.9171437069262, 5146.0, 7.043817043304443), (-278.55590244390487, 1102.0, 6.966347932815552), (-239.2103281286022, 846.0, 7.059880018234253), (-366.2142580547224, 2425.0, 16.12482714653015), (-347.9056742971313, 1401.0, 7.226554870605469), (-343.51844823648594, 1541.0, 7.115485906600952), (-351.98741032122996, 558.0, 7.20566201210022), (-572.8560463035767, 1382.0, 16.716334104537964), (-561.7298560752193, 753.0, 7.638904094696045), (-479.26798414244263, 724.0, 7.3417158126831055), (-467.6350748300427, 630.0, 7.36336612701416), (-889.6444165230059, 1808.0, 16.553349018096924), (-861.6219760663561, 2038.0, 7.368345022201538), (-852.2394064770456, 1763.0, 7.337383985519409), (-854.8788742316774, 1748.0, 7.463871955871582), (-1557.7593955391935, 1979.0, 24.67997908592224), (-1520.9277892456264, 1787.0, 7.559433937072754), (-1486.911255991073, 1672.0, 7.507407903671265), (-1476.2515652437799, 1479.0, 7.511826992034912), (-1848.2069662815613, 1317.0, 30.510255098342896), (-1833.068259335331, 1105.0, 7.678768873214722), (-1838.1897902490837, 1072.0, 7.514816045761108), (-1840.8320610044245, 1163.0, 7.625641107559204), (-2286.5471448361013, 2264.0, 29.42255401611328), (-2276.7521077993033, 2235.0, 7.745030879974365), (-2273.062067014052, 2273.0, 7.575844049453735), (-2274.980994686967, 2368.0, 7.66802191734314), (-2756.271357528336, 2194.0, 28.251458168029785), (-2746.082606539464, 2154.0, 7.929297924041748), (-2756.7316923093445, 2352.0, 7.821461915969849), (-2750.0674523474336, 2319.0, 7.869850158691406), (-3204.2748910919563, 4408.0, 28.930580854415894), (-3186.6925216821614, 3377.0, 7.901597023010254), (-3180.8413969023964, 3309.0, 7.789679050445557), (-3168.072497482601, 2701.0, 7.857537031173706), (-4049.744615275173, 2399.0, 28.524534940719604), (-4028.5272955235346, 2195.0, 8.058729887008667), (-4007.4306673557526, 2167.0, 8.002026081085205), (-3904.960334878495, 1834.0, 8.067860126495361), (-4666.464510589201, 1818.0, 33.95457482337952), (-4646.077046636501, 1640.0, 8.09464406967163), (-4653.270035832085, 1763.0, 7.907522916793823), (-4626.1212908856205, 1838.0, 7.997570037841797), (-5023.808088157807, 2567.0, 32.71801400184631), (-5018.389241805401, 2631.0, 8.346708059310913), (-5008.850627977278, 2694.0, 8.137943029403687), (-5011.72703383201, 2734.0, 8.208576917648315), (-5517.265983680683, 4228.0, 32.33104395866394), (-5495.922200676938, 3200.0, 8.365079164505005), (-5484.28481933762, 2763.0, 8.158183813095093), (-5474.268169423068, 2408.0, 8.253407001495361), (-5867.584855669974, 1353.0, 31.530710220336914), (-5860.77398751099, 1250.0, 8.322641849517822), (-5825.306006527599, 1007.0, 8.284348011016846), (-5826.918934350535, 1080.0, 8.351277112960815), (-6238.0033144609415, 1598.0, 31.434891939163208), (-6233.6162643771895, 1437.0, 8.372262954711914), (-6230.052740342826, 1233.0, 8.295242071151733), (-6159.59502876074, 1172.0, 8.930366039276123), (-6613.932461991194, 2731.0, 30.9872088432312), (-6587.826692237043, 1923.0, 8.95423698425293), (-6585.599234403362, 1736.0, 8.395289182662964), (-6574.987866249592, 1559.0, 8.463897943496704)]]\n",
      "if len(logs)==1:\n",
      "    logs = logs[0]\n",
      "print 'first line of each day is prior (no inference)'\n",
      "print 'logscore, sqrt(L2score), time (s)\\n'\n",
      "\n",
      "for i,triple in enumerate(logs):\n",
      "    if np.mod(i,noIters+1)==0:\n",
      "        print '\\nDay %i ----'%(i/(noIters+1.))\n",
      "    sqrt_triple = triple[0],triple[1],triple[1]**.5,triple[2]\n",
      "    print map(lambda x:round(x,2),sqrt_triple)"
     ],
     "language": "python",
     "metadata": {},
     "outputs": [
      {
       "output_type": "stream",
       "stream": "stdout",
       "text": [
        "first line of each day is prior (no inference)\n",
        "logscore, sqrt(L2score), time (s)\n",
        "\n",
        "\n",
        "Day 0 ----\n",
        "[-20.11, 904.0, 30.07, 4.26]\n",
        "[-15.46, 1296.0, 36.0, 6.59]\n",
        "[-14.91, 784.0, 28.0, 6.58]\n",
        "[-14.97, 841.0, 29.0, 6.64]\n",
        "\n",
        "Day 1 ----\n",
        "[-102.56, 1257.0, 35.45, 9.99]\n",
        "[-98.79, 1121.0, 33.48, 7.26]\n",
        "[-99.29, 1886.0, 43.43, 7.11]\n",
        "[-107.33, 2687.0, 51.84, 7.15]\n",
        "\n",
        "Day 2 ----\n",
        "[-290.88, 5742.0, 75.78, 15.67]\n",
        "[-296.92, 5146.0, 71.74, 7.04]\n",
        "[-278.56, 1102.0, 33.2, 6.97]\n",
        "[-239.21, 846.0, 29.09, 7.06]\n",
        "\n",
        "Day 3 ----\n",
        "[-366.21, 2425.0, 49.24, 16.12]\n",
        "[-347.91, 1401.0, 37.43, 7.23]\n",
        "[-343.52, 1541.0, 39.26, 7.12]\n",
        "[-351.99, 558.0, 23.62, 7.21]\n",
        "\n",
        "Day 4 ----\n",
        "[-572.86, 1382.0, 37.18, 16.72]\n",
        "[-561.73, 753.0, 27.44, 7.64]\n",
        "[-479.27, 724.0, 26.91, 7.34]\n",
        "[-467.64, 630.0, 25.1, 7.36]\n",
        "\n",
        "Day 5 ----\n",
        "[-889.64, 1808.0, 42.52, 16.55]\n",
        "[-861.62, 2038.0, 45.14, 7.37]\n",
        "[-852.24, 1763.0, 41.99, 7.34]\n",
        "[-854.88, 1748.0, 41.81, 7.46]\n",
        "\n",
        "Day 6 ----\n",
        "[-1557.76, 1979.0, 44.49, 24.68]\n",
        "[-1520.93, 1787.0, 42.27, 7.56]\n",
        "[-1486.91, 1672.0, 40.89, 7.51]\n",
        "[-1476.25, 1479.0, 38.46, 7.51]\n",
        "\n",
        "Day 7 ----\n",
        "[-1848.21, 1317.0, 36.29, 30.51]\n",
        "[-1833.07, 1105.0, 33.24, 7.68]\n",
        "[-1838.19, 1072.0, 32.74, 7.51]\n",
        "[-1840.83, 1163.0, 34.1, 7.63]\n",
        "\n",
        "Day 8 ----\n",
        "[-2286.55, 2264.0, 47.58, 29.42]\n",
        "[-2276.75, 2235.0, 47.28, 7.75]\n",
        "[-2273.06, 2273.0, 47.68, 7.58]\n",
        "[-2274.98, 2368.0, 48.66, 7.67]\n",
        "\n",
        "Day 9 ----\n",
        "[-2756.27, 2194.0, 46.84, 28.25]\n",
        "[-2746.08, 2154.0, 46.41, 7.93]\n",
        "[-2756.73, 2352.0, 48.5, 7.82]\n",
        "[-2750.07, 2319.0, 48.16, 7.87]\n",
        "\n",
        "Day 10 ----\n",
        "[-3204.27, 4408.0, 66.39, 28.93]\n",
        "[-3186.69, 3377.0, 58.11, 7.9]\n",
        "[-3180.84, 3309.0, 57.52, 7.79]\n",
        "[-3168.07, 2701.0, 51.97, 7.86]\n",
        "\n",
        "Day 11 ----\n",
        "[-4049.74, 2399.0, 48.98, 28.52]\n",
        "[-4028.53, 2195.0, 46.85, 8.06]\n",
        "[-4007.43, 2167.0, 46.55, 8.0]\n",
        "[-3904.96, 1834.0, 42.83, 8.07]\n",
        "\n",
        "Day 12 ----\n",
        "[-4666.46, 1818.0, 42.64, 33.95]\n",
        "[-4646.08, 1640.0, 40.5, 8.09]\n",
        "[-4653.27, 1763.0, 41.99, 7.91]\n",
        "[-4626.12, 1838.0, 42.87, 8.0]\n",
        "\n",
        "Day 13 ----\n",
        "[-5023.81, 2567.0, 50.67, 32.72]\n",
        "[-5018.39, 2631.0, 51.29, 8.35]\n",
        "[-5008.85, 2694.0, 51.9, 8.14]\n",
        "[-5011.73, 2734.0, 52.29, 8.21]\n",
        "\n",
        "Day 14 ----\n",
        "[-5517.27, 4228.0, 65.02, 32.33]\n",
        "[-5495.92, 3200.0, 56.57, 8.37]\n",
        "[-5484.28, 2763.0, 52.56, 8.16]\n",
        "[-5474.27, 2408.0, 49.07, 8.25]\n",
        "\n",
        "Day 15 ----\n",
        "[-5867.58, 1353.0, 36.78, 31.53]\n",
        "[-5860.77, 1250.0, 35.36, 8.32]\n",
        "[-5825.31, 1007.0, 31.73, 8.28]\n",
        "[-5826.92, 1080.0, 32.86, 8.35]\n",
        "\n",
        "Day 16 ----\n",
        "[-6238.0, 1598.0, 39.97, 31.43]\n",
        "[-6233.62, 1437.0, 37.91, 8.37]\n",
        "[-6230.05, 1233.0, 35.11, 8.3]\n",
        "[-6159.6, 1172.0, 34.23, 8.93]\n",
        "\n",
        "Day 17 ----\n",
        "[-6613.93, 2731.0, 52.26, 30.99]\n",
        "[-6587.83, 1923.0, 43.85, 8.95]\n",
        "[-6585.6, 1736.0, 41.67, 8.4]\n",
        "[-6574.99, 1559.0, 39.48, 8.46]\n"
       ]
      }
     ],
     "prompt_number": 5
    },
    {
     "cell_type": "code",
     "collapsed": false,
     "input": [],
     "language": "python",
     "metadata": {},
     "outputs": []
    },
    {
     "cell_type": "code",
     "collapsed": false,
     "input": [
      "import numpy as np\n",
      "np.round( [1.1111,[2.222222,[3.33333]]] )"
     ],
     "language": "python",
     "metadata": {},
     "outputs": []
    },
    {
     "cell_type": "code",
     "collapsed": false,
     "input": [
      "no_days=19\n",
      "#fig,ax = plt.subplots(no_days,1,figsize=(10,3*no_days) )\n",
      "#[ax[i].plot(allMovesGround[i]) for i in range(no_days)];"
     ],
     "language": "python",
     "metadata": {},
     "outputs": [],
     "prompt_number": 4
    },
    {
     "cell_type": "code",
     "collapsed": false,
     "input": [
      "\n",
      "plotSamples(path,noIters=noIters)\n",
      "\n",
      "# Comparing L2 posterior and prior L2 and logscores (collapsing over all 19 days)\n",
      "# here we only do 1000 transitions and so get one sample for posterior for each day"
     ],
     "language": "python",
     "metadata": {},
     "outputs": [
      {
       "metadata": {},
       "output_type": "display_data",
       "png": "[encoded data removed]",
       "text": [
        "<matplotlib.figure.Figure at 0xa48526c>"
       ]
      },
      {
       "metadata": {},
       "output_type": "display_data",
       "png": "[encoded data removed]",
       "text": [
        "<matplotlib.figure.Figure at 0xceb0b0c>"
       ]
      },
      {
       "metadata": {},
       "output_type": "display_data",
       "png": "[encoded data removed]",
       "text": [
        "<matplotlib.figure.Figure at 0xac51e2c>"
       ]
      }
     ],
     "prompt_number": 5
    },
    {
     "cell_type": "code",
     "collapsed": false,
     "input": [],
     "language": "python",
     "metadata": {},
     "outputs": []
    }
   ],
   "metadata": {}
  }
 ]
}